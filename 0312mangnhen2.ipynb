{
  "nbformat": 4,
  "nbformat_minor": 0,
  "metadata": {
    "colab": {
      "name": "0312mangnhen2.ipynb",
      "provenance": [],
      "collapsed_sections": [],
      "authorship_tag": "ABX9TyMRoc3uV0EOUVovmj62FJFV",
      "include_colab_link": true
    },
    "kernelspec": {
      "name": "python3",
      "display_name": "Python 3"
    }
  },
  "cells": [
    {
      "cell_type": "markdown",
      "metadata": {
        "id": "view-in-github",
        "colab_type": "text"
      },
      "source": [
        "<a href=\"https://colab.research.google.com/github/4070E113/security2021/blob/main/0312mangnhen2.ipynb\" target=\"_parent\"><img src=\"https://colab.research.google.com/assets/colab-badge.svg\" alt=\"Open In Colab\"/></a>"
      ]
    },
    {
      "cell_type": "code",
      "metadata": {
        "colab": {
          "base_uri": "https://localhost:8080/"
        },
        "id": "XF13ja0dVDZc",
        "outputId": "a0d0fbfd-c7d5-41fb-f2bc-8530c0333c1f"
      },
      "source": [
        "import requests\r\n",
        "from bs4 import BeautifulSoup\r\n",
        "\r\n",
        "\r\n",
        "resp = requests.get('http://jwlin.github.io/py-scraping-analysis-book/ch2/blog/blog.html')\r\n",
        "soup = BeautifulSoup(resp.text, 'html.parser')\r\n",
        "print(soup.find('h4').text)"
      ],
      "execution_count": 7,
      "outputs": [
        {
          "output_type": "stream",
          "text": [
            "\n",
            "Mac使用者\n",
            "\n"
          ],
          "name": "stdout"
        }
      ]
    },
    {
      "cell_type": "markdown",
      "metadata": {
        "id": "v66yjyW5VWaG"
      },
      "source": [
        ""
      ]
    },
    {
      "cell_type": "markdown",
      "metadata": {
        "id": "TwVxspSsjJhF"
      },
      "source": [
        "import requests  ==> load requests module\r\n",
        "\r\n",
        "from bs4 import BeautifulSoup ==> load BeautifulSoup module\r\n",
        "\r\n",
        "requests.get('http://jwlin.github.io/py-scraping-analysis-book/ch2/blog/blog.html')\r\n",
        "\r\n",
        "==> use get() method to download web page \r\n",
        "\r\n",
        "==> requests.get('url')\r\n",
        "\r\n",
        "==> get a response(resp)\r\n",
        "\r\n",
        "==>  resp.text === html code\r\n",
        "\r\n",
        "解析html語法==> 使用BeautifulSoup\r\n",
        "\r\n",
        "格式 ==> BeautifulSoup(resp.text[下載的檔案], 'html.parser[解析器]')\r\n",
        "\r\n",
        "soup.find('h4') ==> 找出解析後的檔案你要的部分"
      ]
    },
    {
      "cell_type": "markdown",
      "metadata": {
        "id": "uGxy-DtCi6NW"
      },
      "source": [
        ""
      ]
    }
  ]
}